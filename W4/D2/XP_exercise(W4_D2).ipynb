{
  "nbformat": 4,
  "nbformat_minor": 0,
  "metadata": {
    "colab": {
      "provenance": []
    },
    "kernelspec": {
      "name": "python3",
      "display_name": "Python 3"
    },
    "language_info": {
      "name": "python"
    }
  },
  "cells": [
    {
      "cell_type": "code",
      "source": [
        "import pandas as pd\n",
        "import numpy as np\n",
        "import matplotlib.pyplot as plt"
      ],
      "metadata": {
        "id": "r_dZnyKadmt3"
      },
      "execution_count": null,
      "outputs": []
    },
    {
      "cell_type": "code",
      "source": [
        "# 🌟 Exercise 1 : Matrix Operations\n",
        "\n",
        "matrix = np.array([[2, 4, 6], [0, -2, 1], [5, 0, 3]])\n",
        "determinant = np.linalg.det(matrix)\n",
        "print(\"Determinant:\", determinant)\n",
        "inverse_matrix = np.linalg.inv(matrix)\n",
        "print(\"Inverse_matrix:\", inverse_matrix)"
      ],
      "metadata": {
        "colab": {
          "base_uri": "https://localhost:8080/"
        },
        "id": "wDDtLPF4d0u6",
        "outputId": "2ce80f96-2208-4303-80a3-30359322e527"
      },
      "execution_count": 41,
      "outputs": [
        {
          "output_type": "stream",
          "name": "stdout",
          "text": [
            "Determinant: 67.99999999999996\n",
            "Inverse_matrix: [[-0.08823529 -0.17647059  0.23529412]\n",
            " [ 0.07352941 -0.35294118 -0.02941176]\n",
            " [ 0.14705882  0.29411765 -0.05882353]]\n"
          ]
        }
      ]
    },
    {
      "cell_type": "code",
      "source": [
        "#🌟 Exercise 2 : Statistical Analysis\n",
        "\n",
        "random_numbers = np.random.rand(50)\n",
        "mean_value = np.mean(random_numbers)\n",
        "median_value = np.median(random_numbers)\n",
        "std_dev_value = np.std(random_numbers)\n",
        "\n",
        "print(\"Mean:\", mean_value)\n",
        "print(\"Median:\", median_value)\n",
        "print(\"Standard Deviation:\", std_dev_value)"
      ],
      "metadata": {
        "colab": {
          "base_uri": "https://localhost:8080/"
        },
        "id": "bTKRJEHPj-Dh",
        "outputId": "12fac153-3729-48f6-c70c-22d8c1d14be5"
      },
      "execution_count": 42,
      "outputs": [
        {
          "output_type": "stream",
          "name": "stdout",
          "text": [
            "Mean: 0.4694799051116405\n",
            "Median: 0.4596659482976567\n",
            "Standard Deviation: 0.2735570995980228\n"
          ]
        }
      ]
    },
    {
      "cell_type": "code",
      "source": [
        "#🌟 Exercise 3 : Date Manipulation\n",
        "\n",
        "\n",
        "date_series = pd.date_range(start='2023-01-01', end='2023-01-31', freq='D')\n",
        "\n",
        "print(\"Original Date Series:\")\n",
        "print(date_series)\n",
        "\n",
        "formatted_date_series_alt = date_series.strftime('%m-%d-%Y')\n",
        "\n",
        "print(\"\\n Formatted Date Series (MM-DD-YYYY):\")\n",
        "print(formatted_date_series_alt)"
      ],
      "metadata": {
        "colab": {
          "base_uri": "https://localhost:8080/"
        },
        "id": "cXWFWlBflO2i",
        "outputId": "016b0b40-8bfd-4172-97ef-743b97a7ebf7"
      },
      "execution_count": 87,
      "outputs": [
        {
          "output_type": "stream",
          "name": "stdout",
          "text": [
            "Original Date Series:\n",
            "DatetimeIndex(['2023-01-01', '2023-01-02', '2023-01-03', '2023-01-04',\n",
            "               '2023-01-05', '2023-01-06', '2023-01-07', '2023-01-08',\n",
            "               '2023-01-09', '2023-01-10', '2023-01-11', '2023-01-12',\n",
            "               '2023-01-13', '2023-01-14', '2023-01-15', '2023-01-16',\n",
            "               '2023-01-17', '2023-01-18', '2023-01-19', '2023-01-20',\n",
            "               '2023-01-21', '2023-01-22', '2023-01-23', '2023-01-24',\n",
            "               '2023-01-25', '2023-01-26', '2023-01-27', '2023-01-28',\n",
            "               '2023-01-29', '2023-01-30', '2023-01-31'],\n",
            "              dtype='datetime64[ns]', freq='D')\n",
            "\n",
            " Formatted Date Series (MM-DD-YYYY):\n",
            "Index(['01-01-2023', '01-02-2023', '01-03-2023', '01-04-2023', '01-05-2023',\n",
            "       '01-06-2023', '01-07-2023', '01-08-2023', '01-09-2023', '01-10-2023',\n",
            "       '01-11-2023', '01-12-2023', '01-13-2023', '01-14-2023', '01-15-2023',\n",
            "       '01-16-2023', '01-17-2023', '01-18-2023', '01-19-2023', '01-20-2023',\n",
            "       '01-21-2023', '01-22-2023', '01-23-2023', '01-24-2023', '01-25-2023',\n",
            "       '01-26-2023', '01-27-2023', '01-28-2023', '01-29-2023', '01-30-2023',\n",
            "       '01-31-2023'],\n",
            "      dtype='object')\n"
          ]
        }
      ]
    },
    {
      "cell_type": "code",
      "source": [
        "#🌟 Exercise 4: Data Manipulation with NumPy and Pandas\n",
        "\n",
        "random_numbers = np.random.randint(1, 100, size=10)\n",
        "random_series = pd.Series(random_numbers)\n",
        "\n",
        "print(\"📋 All random numbers:\")\n",
        "print(random_series)\n",
        "\n",
        "# Calculate the mean\n",
        "mean_value = random_series.mean()\n",
        "\n",
        "# Filter numbers greater than the mean\n",
        "filtered_numbers = random_series[random_series > mean_value]\n",
        "\n",
        "print(\"\\n🔍 Numbers greater than the mean (mean = {:.2f}):\".format(mean_value))\n",
        "print(filtered_numbers)\n",
        "\n",
        "# Calculate the sum and average of the series\n",
        "sum_value = random_series.sum()\n",
        "average_value = random_series.mean()\n",
        "\n",
        "print(\"\\n📊 Statistics:\")\n",
        "print(\"Sum:\", sum_value)\n",
        "print(\"Average:\", average_value)"
      ],
      "metadata": {
        "colab": {
          "base_uri": "https://localhost:8080/"
        },
        "id": "A5Ekj7cBlWp9",
        "outputId": "b37ac25e-8a93-4a3d-a76e-8b2424b9092c"
      },
      "execution_count": 84,
      "outputs": [
        {
          "output_type": "stream",
          "name": "stdout",
          "text": [
            "📋 All random numbers:\n",
            "0    99\n",
            "1    18\n",
            "2    78\n",
            "3    37\n",
            "4    22\n",
            "5    43\n",
            "6    40\n",
            "7    97\n",
            "8    88\n",
            "9    28\n",
            "dtype: int64\n",
            "\n",
            "🔍 Numbers greater than the mean (mean = 55.00):\n",
            "0    99\n",
            "2    78\n",
            "7    97\n",
            "8    88\n",
            "dtype: int64\n",
            "\n",
            "📊 Statistics:\n",
            "Sum: 550\n",
            "Average: 55.0\n"
          ]
        }
      ]
    },
    {
      "cell_type": "code",
      "source": [
        "# 🌟 Exercise 5 : Image Representation\n",
        "\n"
      ],
      "metadata": {
        "id": "ybe5FRCophXX"
      },
      "execution_count": null,
      "outputs": []
    },
    {
      "cell_type": "code",
      "source": [
        "\n",
        "grayscale_image = np.zeros((5, 5), dtype=np.uint8) # Create a 5x5 array\n",
        "grayscale_image[2, 2] = 255 # Set the center pixel to white\n",
        "grayscale_image[0, 0] = 100 # Set the top row to a gray value\n",
        "grayscale_image[:, 4] = 200 # Set the rightmost column to a lighter gray\n",
        "\n",
        "print(\"Grayscale image represented as a NumPy array:\")\n",
        "print(grayscale_image)\n",
        "\n",
        "\n",
        "plt.imshow(grayscale_image, cmap='gray', vmin=0, vmax=255)\n",
        "plt.title(\"5x5 Grayscale Image\")\n",
        "plt.show()\n"
      ],
      "metadata": {
        "colab": {
          "base_uri": "https://localhost:8080/",
          "height": 559
        },
        "id": "uSuriAYTptrj",
        "outputId": "a392760a-cb36-459c-c90e-e423966114ad"
      },
      "execution_count": 108,
      "outputs": [
        {
          "output_type": "stream",
          "name": "stdout",
          "text": [
            "Grayscale image represented as a NumPy array:\n",
            "[[100   0   0   0 200]\n",
            " [  0   0   0   0 200]\n",
            " [  0   0 255   0 200]\n",
            " [  0   0   0   0 200]\n",
            " [  0   0   0   0 200]]\n"
          ]
        },
        {
          "output_type": "display_data",
          "data": {
            "text/plain": [
              "<Figure size 640x480 with 1 Axes>"
            ],
            "image/png": "[encoded data removed]"
          },
          "metadata": {}
        }
      ]
    },
    {
      "cell_type": "code",
      "source": [
        "import numpy as np\n",
        "from scipy import stats\n",
        "\n",
        "#🌟 Exercise 6: Basic Hypothesis Testing\n",
        "\n",
        "\n",
        "# Generate productivity scores before and after the training program\n",
        "productivity_before = np.random.normal(loc=50, scale=10, size=30)\n",
        "productivity_after = productivity_before + np.random.normal(loc=5, scale=3, size=30)\n",
        "\n",
        "# Basic descriptive statistics\n",
        "mean_before = np.mean(productivity_before)\n",
        "mean_after = np.mean(productivity_after)\n",
        "\n",
        "std_before = np.std(productivity_before, ddof=1)\n",
        "std_after = np.std(productivity_after, ddof=1)\n",
        "\n",
        "print(\"Mean productivity before training:\", round(mean_before, 2))\n",
        "print(\"Mean productivity after training:\", round(mean_after, 2))\n",
        "print(\"Standard deviation before training:\", round(std_before, 2))\n",
        "print(\"Standard deviation after training:\", round(std_after, 2))\n",
        "\n",
        "# Difference in productivity\n",
        "difference = productivity_after - productivity_before\n",
        "mean_difference = np.mean(difference)\n",
        "\n",
        "print(\"Average improvement:\", round(mean_difference, 2))\n",
        "\n",
        "# Paired t-test\n",
        "t_stat, p_value = stats.ttest_rel(productivity_after, productivity_before)\n",
        "\n",
        "# Hypothesis testing result\n",
        "alpha = 0.05\n",
        "print(\"\\nHypothesis test result:\")\n",
        "print(\"t-statistic:\", round(t_stat, 4))\n",
        "print(\"p-value:\", round(p_value, 4))\n",
        "\n",
        "if p_value < alpha:\n",
        "    print(\"Reject the null hypothesis — the training was effective.\")\n",
        "else:\n",
        "    print(\"Fail to reject the null hypothesis — no significant improvement found.\")\n",
        "\n",
        "# Variance before training\n",
        "variance_before = np.var(productivity_before, ddof=1)\n",
        "print(\"\\nVariance of productivity before training:\", round(variance_before, 2))"
      ],
      "metadata": {
        "colab": {
          "base_uri": "https://localhost:8080/"
        },
        "id": "7yGX2iX-qPM2",
        "outputId": "057e7db8-b3fd-46b6-c4bd-373aca58cca2"
      },
      "execution_count": 120,
      "outputs": [
        {
          "output_type": "stream",
          "name": "stdout",
          "text": [
            "Mean productivity before training: 51.76\n",
            "Mean productivity after training: 56.79\n",
            "Standard deviation before training: 9.58\n",
            "Standard deviation after training: 10.1\n",
            "Average improvement: 5.04\n",
            "\n",
            "Hypothesis test result:\n",
            "t-statistic: 7.7719\n",
            "p-value: 0.0\n",
            "Reject the null hypothesis — the training was effective.\n",
            "\n",
            "Variance of productivity before training: 91.79\n"
          ]
        }
      ]
    },
    {
      "cell_type": "markdown",
      "source": [
        "###Conclusion:\n",
        "\n",
        "* The average productivity of employees increased after the training program. The paired t-test showed a statistically significant difference (p < 0.05), which suggests that the training had a positive effect on employee productivity.\n",
        "* Therefore, we reject the null hypothesis and conclude that the training program was effective."
      ],
      "metadata": {
        "id": "oO0YB6_u2pEx"
      }
    },
    {
      "cell_type": "code",
      "source": [],
      "metadata": {
        "id": "SmLqTKC81CTm"
      },
      "execution_count": 116,
      "outputs": []
    },
    {
      "cell_type": "code",
      "source": [
        "# 🌟 Exercise 7 : Complex Array Comparison\n",
        "\n",
        "\n",
        "a = np.array([10, 'k', 30])\n",
        "b = np.array([15, 'l', 'd'])\n",
        "\n",
        "result = a > b\n",
        "print(result)"
      ],
      "metadata": {
        "colab": {
          "base_uri": "https://localhost:8080/"
        },
        "id": "tks56WOk23QM",
        "outputId": "a946bd1e-f3ee-4c16-9339-4b4de0dee958"
      },
      "execution_count": 126,
      "outputs": [
        {
          "output_type": "stream",
          "name": "stdout",
          "text": [
            "[False False False]\n"
          ]
        }
      ]
    },
    {
      "cell_type": "code",
      "source": [
        "# 🌟 Exercise 8 : Time Series Data Manipulation\n",
        "\n",
        "# Time series data for the year 2023\n",
        "date_rng = pd.date_range(start='2023-01-01', end='2023-12-31', freq='d')\n",
        "time_series_data = pd.DataFrame(date_rng, columns=['date'])\n",
        "\n",
        "print(\"\\nJanuary to March:\")\n",
        "print(time_series_data.loc[0:2])\n",
        "\n",
        "print(\"\\nApril to June:\")\n",
        "print(time_series_data.loc[3:5])\n",
        "\n",
        "print(\"\\nJuly to September:\")\n",
        "print(time_series_data.loc[6:8])\n",
        "\n",
        "print(\"\\nOctober to December:\")\n",
        "print(time_series_data.loc[9:11])"
      ],
      "metadata": {
        "colab": {
          "base_uri": "https://localhost:8080/"
        },
        "id": "_7ZVpzYh33IS",
        "outputId": "eff21a47-b6ee-4c2b-82f0-76ef711560ec"
      },
      "execution_count": 146,
      "outputs": [
        {
          "output_type": "stream",
          "name": "stdout",
          "text": [
            "\n",
            "January to March:\n",
            "        date\n",
            "0 2023-01-01\n",
            "1 2023-01-02\n",
            "2 2023-01-03\n",
            "\n",
            "April to June:\n",
            "        date\n",
            "3 2023-01-04\n",
            "4 2023-01-05\n",
            "5 2023-01-06\n",
            "\n",
            "July to September:\n",
            "        date\n",
            "6 2023-01-07\n",
            "7 2023-01-08\n",
            "8 2023-01-09\n",
            "\n",
            "October to December:\n",
            "         date\n",
            "9  2023-01-10\n",
            "10 2023-01-11\n",
            "11 2023-01-12\n"
          ]
        }
      ]
    },
    {
      "cell_type": "code",
      "source": [
        "# 🌟 Exercise 9 : Data Conversion\n",
        "\n",
        "data = [1, 6, 99, 55, 476]\n",
        "\n",
        "# Convert to NumPy array\n",
        "numpy_array = np.array(data)\n",
        "print(\"NumPy Array:\", numpy_array)\n",
        "\n",
        "# Convert to Pandas Series\n",
        "pandas_series = pd.Series(data)\n",
        "print(\"\\nPandas Series:\")\n",
        "print(pandas_series)\n",
        "\n",
        "# Convert NumPy array to Pandas DataFrame\n",
        "pandas_dataframe = pd.DataFrame(numpy_array, columns=['Values'])\n",
        "print(\"\\nPandas DataFrame:\")\n",
        "print(pandas_dataframe)"
      ],
      "metadata": {
        "colab": {
          "base_uri": "https://localhost:8080/"
        },
        "id": "62KgZabB6-PR",
        "outputId": "fa58eb72-36f7-40ff-f095-86644c6d6999"
      },
      "execution_count": 152,
      "outputs": [
        {
          "output_type": "stream",
          "name": "stdout",
          "text": [
            "NumPy Array: [  1   6  99  55 476]\n",
            "\n",
            "Pandas Series:\n",
            "0      1\n",
            "1      6\n",
            "2     99\n",
            "3     55\n",
            "4    476\n",
            "dtype: int64\n",
            "\n",
            "Pandas DataFrame:\n",
            "   Values\n",
            "0       1\n",
            "1       6\n",
            "2      99\n",
            "3      55\n",
            "4     476\n"
          ]
        }
      ]
    },
    {
      "cell_type": "code",
      "source": [
        "# 🌟 Exercise 10 : Basic Visualization\n",
        "\n",
        "import matplotlib.pyplot as plt\n",
        "import numpy as np\n",
        "# Sample data for plotting\n",
        "x = np.array([1, 2, 3, 4, 5])\n",
        "y = np.array([2, 3, 5, 7, 11])\n",
        "\n",
        "# Create a simple plot\n",
        "plt.plot(x, y, marker='o', linestyle='--', color='b')\n",
        "plt.title(\"Simple Plot Example\")\n",
        "plt.xlabel(\"X-axis Label\")\n",
        "plt.ylabel(\"Y-axis Label\")\n",
        "plt.grid(True)\n",
        "plt.show()"
      ],
      "metadata": {
        "colab": {
          "base_uri": "https://localhost:8080/",
          "height": 472
        },
        "id": "X24MpXTm9X27",
        "outputId": "e1725753-5c7b-46fc-dada-e610e2b3fa30"
      },
      "execution_count": 170,
      "outputs": [
        {
          "output_type": "display_data",
          "data": {
            "text/plain": [
              "<Figure size 640x480 with 1 Axes>"
            ],
            "image/png": "[encoded data removed]"
          },
          "metadata": {}
        }
      ]
    },
    {
      "cell_type": "code",
      "source": [],
      "metadata": {
        "id": "WW3wsJkF9t3c"
      },
      "execution_count": null,
      "outputs": []
    }
  ]
}