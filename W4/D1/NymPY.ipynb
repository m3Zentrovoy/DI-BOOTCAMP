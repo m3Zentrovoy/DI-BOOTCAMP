{
 "cells": [
  {
   "cell_type": "code",
   "execution_count": 6,
   "id": "bcafe5fe",
   "metadata": {},
   "outputs": [
    {
     "name": "stdout",
     "output_type": "stream",
     "text": [
      "1D Array: [1 2 3 4]\n",
      "2D Array:\n",
      " [[1 2 3]\n",
      " [4 5 6]]\n"
     ]
    }
   ],
   "source": [
    "import numpy as np\n",
    "\n",
    "# Creating a 1D NumPy array\n",
    "array_1d = np.array([1, 2, 3, 4])\n",
    "print(\"1D Array:\", array_1d)  # Expected Output: 1D Array: [1 2 3 4]\n",
    "\n",
    "# Creating a 2D NumPy array\n",
    "array_2d = np.array([[1, 2, 3], [4, 5, 6]])\n",
    "print(\"2D Array:\\n\", array_2d)\n",
    "# Expected Output:\n",
    "# 2D Array:\n",
    "# [[1 2 3]\n",
    "#  [4 5 6]]\n"
   ]
  },
  {
   "cell_type": "code",
   "execution_count": 5,
   "id": "f9b43060",
   "metadata": {},
   "outputs": [
    {
     "name": "stdout",
     "output_type": "stream",
     "text": [
      "Shape: (2, 3)\n",
      "Size: 6\n",
      "Data Type: int64\n"
     ]
    }
   ],
   "source": [
    "# Array attributes\n",
    "print(\"Shape:\", array_2d.shape)  # Expected Output: Shape: (2, 3) - 2 rows and 3 columns\n",
    "print(\"Size:\", array_2d.size)   # Expected Output: Size: 6 - Total 6 elements\n",
    "print(\"Data Type:\", array_2d.dtype)  # Expected Output: Data Type: int64 (or similar, depending on system)"
   ]
  },
  {
   "cell_type": "code",
   "execution_count": 24,
   "id": "e72f14ac",
   "metadata": {},
   "outputs": [
    {
     "name": "stdout",
     "output_type": "stream",
     "text": [
      "[1 2 3 4 5]\n",
      "Shape a: (5,)\n",
      "Size a: 5\n",
      "Data Type a: int64\n"
     ]
    }
   ],
   "source": [
    "a = np.arange(1,6)\n",
    "print(a)\n",
    "\n",
    "print(\"Shape a:\", a.shape)  \n",
    "print(\"Size a:\", a.size)   \n",
    "print(\"Data Type a:\", a.dtype)"
   ]
  },
  {
   "cell_type": "code",
   "execution_count": null,
   "id": "62b73114",
   "metadata": {},
   "outputs": [
    {
     "name": "stdout",
     "output_type": "stream",
     "text": [
      "[[1 2 3]\n",
      " [4 5 6]]\n",
      "3.5\n"
     ]
    }
   ],
   "source": [
    "a = np.arange(1,7).reshape(2,3)\n",
    "\n",
    "print(a)\n",
    "\n",
    "print(a.mean(axis=1))\n",
    "print(a.mean(axis=0))\n",
    "\n",
    "print(np.median(a))\n"
   ]
  },
  {
   "cell_type": "code",
   "execution_count": 31,
   "id": "2d801d10",
   "metadata": {},
   "outputs": [
    {
     "name": "stdout",
     "output_type": "stream",
     "text": [
      "[[1 2]\n",
      " [3 4]\n",
      " [5 6]]\n",
      "Shape a2: (3, 2)\n",
      "Size a2: 6\n",
      "Data Type a2: int64\n"
     ]
    }
   ],
   "source": [
    "a2 = np.arange(1,7).reshape(3,2)\n",
    "print(a2)\n",
    "\n",
    "print(\"Shape a2:\", a2.shape)  \n",
    "print(\"Size a2:\", a2.size)   \n",
    "print(\"Data Type a2:\", a2.dtype)"
   ]
  },
  {
   "cell_type": "code",
   "execution_count": 80,
   "id": "4afb2716",
   "metadata": {},
   "outputs": [
    {
     "data": {
      "text/plain": [
       "array([26, 27, 28, 28, 27, 27, 27])"
      ]
     },
     "execution_count": 80,
     "metadata": {},
     "output_type": "execute_result"
    }
   ],
   "source": [
    "a_temp = [26,27,28,28,27,27,27]\n",
    "a_temp = np.array(a_temp)\n",
    "a_temp"
   ]
  },
  {
   "cell_type": "code",
   "execution_count": 84,
   "id": "4855a14d",
   "metadata": {},
   "outputs": [
    {
     "name": "stdout",
     "output_type": "stream",
     "text": [
      "[[ 1  2  3  4  5]\n",
      " [ 6  7  8  9 10]]\n",
      "[[ 3  2  3  2  7]\n",
      " [10  2  6  4  8]]\n"
     ]
    }
   ],
   "source": [
    "a22 = np.arange(1,11).reshape(2,5)\n",
    "print(a22)\n",
    "\n",
    "\n",
    "a23 = np.random.randint(1,11, size = (2,5))\n",
    "print(a23)"
   ]
  },
  {
   "cell_type": "code",
   "execution_count": 75,
   "id": "9e6d7fd8",
   "metadata": {},
   "outputs": [
    {
     "data": {
      "text/plain": [
       "array([[[1, 2],\n",
       "        [3, 4]],\n",
       "\n",
       "       [[5, 6],\n",
       "        [7, 8]]])"
      ]
     },
     "metadata": {},
     "output_type": "display_data"
    },
    {
     "name": "stdout",
     "output_type": "stream",
     "text": [
      "Shape: (2, 2, 2)\n"
     ]
    }
   ],
   "source": [
    "array_3d = np.array([[[1, 2], [3, 4]], [[5, 6], [7, 8]]])\n",
    "\n",
    "display(array_3d)\n",
    "print(\"Shape:\", array_3d.shape)\n",
    "# Shape: (2, 2, 2), Size: 8"
   ]
  },
  {
   "cell_type": "code",
   "execution_count": 87,
   "id": "04d5be72",
   "metadata": {},
   "outputs": [
    {
     "name": "stdout",
     "output_type": "stream",
     "text": [
      "3D Array for a 3x3 image with 9 pixels (RGB):\n",
      " [[[255   0   0]\n",
      "  [  0 255   0]\n",
      "  [  0   0 255]]\n",
      "\n",
      " [[128 128   0]\n",
      "  [  0 128 128]\n",
      "  [128   0 128]]\n",
      "\n",
      " [[255 255 255]\n",
      "  [  0   0   0]\n",
      "  [192 192 192]]]\n",
      "\n",
      "Shape: (3, 3, 3)\n",
      "Data Type: uint8\n"
     ]
    },
    {
     "data": {
      "image/png": "[encoded data removed]",
      "text/plain": [
       "<Figure size 640x480 with 1 Axes>"
      ]
     },
     "metadata": {},
     "output_type": "display_data"
    }
   ],
   "source": [
    "import numpy as np\n",
    "import matplotlib.pyplot as plt\n",
    "\n",
    "\n",
    "# Создаём 3D-массив для изображения 3x3 с 9 пикселями (RGB-каналы)\n",
    "image_3d = np.array([\n",
    "    [[255, 0, 0], [0, 255, 0], [0, 0, 255]],  # Первая строка: красный, зелёный, синий\n",
    "    [[128, 128, 0], [0, 128, 128], [128, 0, 128]],  # Вторая строка: жёлтый, бирюзовый, пурпурный\n",
    "    [[255, 255, 255], [0, 0, 0], [192, 192, 192]]  # Третья строка: белый, чёрный, серый\n",
    "], dtype=np.uint8)  # Тип данных uint8 (0–255)\n",
    "\n",
    "# Выводим массив\n",
    "print(\"3D Array for a 3x3 image with 9 pixels (RGB):\\n\", image_3d)\n",
    "print(\"\\nShape:\", image_3d.shape)\n",
    "print(\"Data Type:\", image_3d.dtype)\n",
    "\n",
    "\n",
    "plt.imshow(image_3d)\n",
    "plt.axis('off')  # Отключаем оси, чтобы не отвлекали\n",
    "plt.title('3x3 Image with 9 Pixels (RGB)')\n",
    "plt.show()"
   ]
  },
  {
   "cell_type": "code",
   "execution_count": 89,
   "id": "5f721287",
   "metadata": {},
   "outputs": [
    {
     "name": "stdout",
     "output_type": "stream",
     "text": [
      "Element at row 1, column 2: 6\n",
      "Second row: [4 5 6]\n",
      "Third column: [3 6 9]\n"
     ]
    }
   ],
   "source": [
    "import numpy as np\n",
    "\n",
    "# Example 2D array\n",
    "array_2d = np.array([[1, 2, 3], [4, 5, 6], [7, 8, 9]])\n",
    "\n",
    "# Accessing a single element\n",
    "print(\"Element at row 1, column 2:\", array_2d[1, 2])  # Output: 6\n",
    "\n",
    "# Accessing a row\n",
    "print(\"Second row:\", array_2d[1, :])  # Output: [4 5 6]\n",
    "\n",
    "# Accessing a column\n",
    "print(\"Third column:\", array_2d[:, 2])  # Output: [3 6 9]"
   ]
  },
  {
   "cell_type": "code",
   "execution_count": null,
   "id": "2cd303ba",
   "metadata": {},
   "outputs": [
    {
     "name": "stdout",
     "output_type": "stream",
     "text": [
      "[31 33 35 37 39 41 43 45 47 49]\n",
      "[31 35 39 43 47]\n",
      "[31 37 43 49]\n"
     ]
    }
   ],
   "source": [
    "arr = np.arange(0,11)\n",
    "arr[5]\n",
    "arr[3:9]\n",
    "\n",
    "ar = (np.arange(10,51))\n",
    "arrr = ar[ar > 30]\n",
    "\n"
   ]
  },
  {
   "cell_type": "code",
   "execution_count": 144,
   "id": "10e81693",
   "metadata": {},
   "outputs": [
    {
     "name": "stdout",
     "output_type": "stream",
     "text": [
      "[31 33 35 37 39 41 43 45 47 49]\n",
      "[31 35 39 43 47]\n",
      "[31 37 43 49]\n"
     ]
    }
   ],
   "source": [
    "print(arrr[::2])\n",
    "print(arrr[::4])\n",
    "print(arrr[::6])\n"
   ]
  },
  {
   "cell_type": "code",
   "execution_count": 152,
   "id": "e343bdfd",
   "metadata": {},
   "outputs": [
    {
     "data": {
      "text/plain": [
       "array([ 0,  1,  2,  3,  4, 50,  6,  7,  8,  9])"
      ]
     },
     "execution_count": 152,
     "metadata": {},
     "output_type": "execute_result"
    }
   ],
   "source": [
    "x = np.arange(10)\n",
    "\n",
    "x[5] = 50\n",
    "x"
   ]
  },
  {
   "cell_type": "code",
   "execution_count": null,
   "id": "c0347d51",
   "metadata": {},
   "outputs": [
    {
     "name": "stdout",
     "output_type": "stream",
     "text": [
      "[  0   1   2  -3  -4 -50  -6   7   8   9]\n"
     ]
    }
   ],
   "source": [
    "x[3:8] *= -1\n",
    "print(x)"
   ]
  },
  {
   "cell_type": "code",
   "execution_count": 203,
   "id": "b8a8694b",
   "metadata": {},
   "outputs": [
    {
     "data": {
      "text/plain": [
       "array([   1,    2,    3,    4,    5,    6,    7,    8,    9,   10,   11,\n",
       "         12,   13,   14,   15,   16,   17,   18,   19,   20,   21,   22,\n",
       "         23,   24,   25,   26,   27,   28,   29,   30,   31,   32,   33,\n",
       "         34,   35,   36,   37,   38,   39,   40,   41,   42,   43,   44,\n",
       "         45,   46,   47,   48,   49,   50,  -51,  -52,  -53,  -54,  -55,\n",
       "        -56,  -57,  -58,  -59,  -60,  -61,  -62,  -63,  -64,  -65,  -66,\n",
       "        -67,  -68,  -69,  -70,  -71,  -72,  -73,  -74,  -75,  -76,  -77,\n",
       "        -78,  -79,  -80,  -81,  -82,  -83,  -84,  -85,  -86,  -87,  -88,\n",
       "        -89,  -90,  -91,  -92,  -93,  -94,  -95,  -96,  -97,  -98,  -99,\n",
       "       -100])"
      ]
     },
     "execution_count": 203,
     "metadata": {},
     "output_type": "execute_result"
    }
   ],
   "source": [
    "rand = np.arange(1, 101)\n",
    "rand[rand > 50] *= -1\n",
    "rand"
   ]
  },
  {
   "cell_type": "code",
   "execution_count": 207,
   "id": "43ac77f9",
   "metadata": {},
   "outputs": [
    {
     "data": {
      "text/plain": [
       "array([ 7, -1, -1, 45, -1,  3, -1, 41,  6, -1, 40, -1, 45, -1, 14, -1, -1,\n",
       "       20, -1, -1])"
      ]
     },
     "execution_count": 207,
     "metadata": {},
     "output_type": "execute_result"
    }
   ],
   "source": [
    "rand = np.random.randint(1, 100, 20)\n",
    "rand[rand > 50] = -1\n",
    "rand"
   ]
  },
  {
   "cell_type": "code",
   "execution_count": null,
   "id": "6618264d",
   "metadata": {},
   "outputs": [],
   "source": []
  }
 ],
 "metadata": {
  "kernelspec": {
   "display_name": "Python 3",
   "language": "python",
   "name": "python3"
  },
  "language_info": {
   "codemirror_mode": {
    "name": "ipython",
    "version": 3
   },
   "file_extension": ".py",
   "mimetype": "text/x-python",
   "name": "python",
   "nbconvert_exporter": "python",
   "pygments_lexer": "ipython3",
   "version": "3.13.3"
  }
 },
 "nbformat": 4,
 "nbformat_minor": 5
}
