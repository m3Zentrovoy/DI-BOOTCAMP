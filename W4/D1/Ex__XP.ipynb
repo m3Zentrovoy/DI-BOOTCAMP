{
 "cells": [
  {
   "cell_type": "code",
   "execution_count": null,
   "id": "b5d791eb",
   "metadata": {},
   "outputs": [
    {
     "data": {
      "text/plain": [
       "array([0, 1, 2, 3, 4, 5, 6, 7, 8, 9])"
      ]
     },
     "execution_count": 1,
     "metadata": {},
     "output_type": "execute_result"
    }
   ],
   "source": [
    "# ex1\n",
    "import numpy as np\n",
    "\n",
    "ar = np.arange(0, 10)\n",
    "ar"
   ]
  },
  {
   "cell_type": "code",
   "execution_count": 4,
   "id": "d722dad2",
   "metadata": {},
   "outputs": [
    {
     "data": {
      "text/plain": [
       "array([3, 2, 0, 1, 2])"
      ]
     },
     "execution_count": 4,
     "metadata": {},
     "output_type": "execute_result"
    }
   ],
   "source": [
    "#ex2\n",
    "\n",
    "my_list = [3.14, 2.17, 0, 1, 2]\n",
    "my_array = np.array(my_list, dtype=int)\n",
    "my_array\n",
    "\n",
    "\n",
    "# array([3, 2, 0, 1, 2])"
   ]
  },
  {
   "cell_type": "code",
   "execution_count": 89,
   "id": "5c2436a1",
   "metadata": {},
   "outputs": [
    {
     "data": {
      "text/plain": [
       "array([[1, 2, 3],\n",
       "       [4, 5, 6],\n",
       "       [7, 8, 9]])"
      ]
     },
     "execution_count": 89,
     "metadata": {},
     "output_type": "execute_result"
    }
   ],
   "source": [
    "#ex3\n",
    "\n",
    "x = np.arange(1,10).reshape(3,3)\n",
    "x\n"
   ]
  },
  {
   "cell_type": "code",
   "execution_count": 82,
   "id": "2394be14",
   "metadata": {},
   "outputs": [
    {
     "data": {
      "text/plain": [
       "array([[0.84, 0.72, 0.99, 0.72, 0.47],\n",
       "       [0.75, 0.53, 0.24, 0.99, 0.02],\n",
       "       [0.34, 0.87, 0.47, 0.58, 0.94],\n",
       "       [0.79, 0.06, 0.06, 0.31, 0.55]])"
      ]
     },
     "execution_count": 82,
     "metadata": {},
     "output_type": "execute_result"
    }
   ],
   "source": [
    "#ex4\n",
    "\n",
    "s = np.random.rand(4,5)\n",
    "s = np.around(s, decimals=2)\n",
    "s"
   ]
  },
  {
   "cell_type": "code",
   "execution_count": 64,
   "id": "bf20d18a",
   "metadata": {},
   "outputs": [
    {
     "data": {
      "text/plain": [
       "array([20, 21, 22, 23, 24])"
      ]
     },
     "execution_count": 64,
     "metadata": {},
     "output_type": "execute_result"
    }
   ],
   "source": [
    "#ex5\n",
    "\n",
    "array = np.array([[21,22,23,22,22],[20, 21, 22, 23, 24],[21,22,23,22,22]])\n",
    "\n",
    "array[1, :]\n"
   ]
  },
  {
   "cell_type": "code",
   "execution_count": 112,
   "id": "8df675c9",
   "metadata": {},
   "outputs": [
    {
     "data": {
      "text/plain": [
       "array([9, 8, 7, 6, 5, 4, 3, 2, 1, 0])"
      ]
     },
     "execution_count": 112,
     "metadata": {},
     "output_type": "execute_result"
    }
   ],
   "source": [
    "#ex6\n",
    "\n",
    "array = np.arange(0,10)\n",
    "array[::-1]\n",
    "\n"
   ]
  },
  {
   "cell_type": "code",
   "execution_count": null,
   "id": "b805755f",
   "metadata": {},
   "outputs": [
    {
     "name": "stdout",
     "output_type": "stream",
     "text": [
      "[[1. 0. 0. 0.]\n",
      " [0. 1. 0. 0.]\n",
      " [0. 0. 1. 0.]\n",
      " [0. 0. 0. 1.]]\n"
     ]
    }
   ],
   "source": [
    "#EX7\n",
    "\n",
    "identity_matrix = np.identity(4)\n",
    "print(identity_matrix)\n",
    "\n",
    "\n",
    "\n",
    "# array([[1., 0., 0., 0.],\n",
    "#        [0., 1., 0., 0.],\n",
    "#        [0., 0., 1., 0.],\n",
    "#        [0., 0., 0., 1.]])"
   ]
  },
  {
   "cell_type": "code",
   "execution_count": null,
   "id": "e67abf07",
   "metadata": {},
   "outputs": [
    {
     "name": "stdout",
     "output_type": "stream",
     "text": [
      "Sum:45\n",
      "Average: 4.5\n"
     ]
    }
   ],
   "source": [
    "#ex8\n",
    "\n",
    "a = np.arange(0,10)\n",
    "print(f'Sum:{np.sum(a)}')\n",
    "print(f'Average: {np.median(a)}')\n"
   ]
  },
  {
   "cell_type": "code",
   "execution_count": 141,
   "id": "09f0baa0",
   "metadata": {},
   "outputs": [
    {
     "data": {
      "text/plain": [
       "array([[ 1,  2,  3,  4,  5],\n",
       "       [ 6,  7,  8,  9, 10],\n",
       "       [11, 12, 13, 14, 15],\n",
       "       [16, 17, 18, 19, 20]])"
      ]
     },
     "execution_count": 141,
     "metadata": {},
     "output_type": "execute_result"
    }
   ],
   "source": [
    "#ex9\n",
    "\n",
    "ar = np.arange(1,21).reshape(4,5)\n",
    "ar"
   ]
  },
  {
   "cell_type": "code",
   "execution_count": 150,
   "id": "b7f7fb57",
   "metadata": {},
   "outputs": [
    {
     "data": {
      "text/plain": [
       "array([1, 3, 5, 7, 9])"
      ]
     },
     "execution_count": 150,
     "metadata": {},
     "output_type": "execute_result"
    }
   ],
   "source": [
    "#ex10\n",
    "\n",
    "a = np.arange(0,10)\n",
    "a[a % 2 != 0]"
   ]
  }
 ],
 "metadata": {
  "kernelspec": {
   "display_name": "Python 3",
   "language": "python",
   "name": "python3"
  },
  "language_info": {
   "codemirror_mode": {
    "name": "ipython",
    "version": 3
   },
   "file_extension": ".py",
   "mimetype": "text/x-python",
   "name": "python",
   "nbconvert_exporter": "python",
   "pygments_lexer": "ipython3",
   "version": "3.13.3"
  }
 },
 "nbformat": 4,
 "nbformat_minor": 5
}
