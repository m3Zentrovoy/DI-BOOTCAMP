{
 "cells": [
  {
   "cell_type": "code",
   "execution_count": 2,
   "id": "739cdc82",
   "metadata": {},
   "outputs": [
    {
     "data": {
      "text/html": [
       "<div>\n",
       "<style scoped>\n",
       "    .dataframe tbody tr th:only-of-type {\n",
       "        vertical-align: middle;\n",
       "    }\n",
       "\n",
       "    .dataframe tbody tr th {\n",
       "        vertical-align: top;\n",
       "    }\n",
       "\n",
       "    .dataframe thead th {\n",
       "        text-align: right;\n",
       "    }\n",
       "</style>\n",
       "<table border=\"1\" class=\"dataframe\">\n",
       "  <thead>\n",
       "    <tr style=\"text-align: right;\">\n",
       "      <th></th>\n",
       "      <th>0</th>\n",
       "      <th>1</th>\n",
       "    </tr>\n",
       "  </thead>\n",
       "  <tbody>\n",
       "    <tr>\n",
       "      <th>0</th>\n",
       "      <td>Job Title</td>\n",
       "      <td>Description</td>\n",
       "    </tr>\n",
       "    <tr>\n",
       "      <th>1</th>\n",
       "      <td>Data Analyst</td>\n",
       "      <td>job overview were seeking a data analyst to tu...</td>\n",
       "    </tr>\n",
       "    <tr>\n",
       "      <th>2</th>\n",
       "      <td>Data Reporting Analyst</td>\n",
       "      <td>about wspc wspc is a cooperative of outstandin...</td>\n",
       "    </tr>\n",
       "    <tr>\n",
       "      <th>3</th>\n",
       "      <td>Data Analyst (Power BI/Python)</td>\n",
       "      <td>data analyst power bipython employment type fu...</td>\n",
       "    </tr>\n",
       "    <tr>\n",
       "      <th>4</th>\n",
       "      <td>Data &amp; Reporting Analyst</td>\n",
       "      <td>our company pharmerica overview the data repor...</td>\n",
       "    </tr>\n",
       "  </tbody>\n",
       "</table>\n",
       "</div>"
      ],
      "text/plain": [
       "                                0  \\\n",
       "0                       Job Title   \n",
       "1                    Data Analyst   \n",
       "2          Data Reporting Analyst   \n",
       "3  Data Analyst (Power BI/Python)   \n",
       "4        Data & Reporting Analyst   \n",
       "\n",
       "                                                   1  \n",
       "0                                        Description  \n",
       "1  job overview were seeking a data analyst to tu...  \n",
       "2  about wspc wspc is a cooperative of outstandin...  \n",
       "3  data analyst power bipython employment type fu...  \n",
       "4  our company pharmerica overview the data repor...  "
      ]
     },
     "metadata": {},
     "output_type": "display_data"
    },
    {
     "name": "stdout",
     "output_type": "stream",
     "text": [
      "None\n"
     ]
    }
   ],
   "source": [
    "import pandas as pd\n",
    "df = pd.read_csv('/Users/zentrovoy/Documents/BOOTCAMP/W3/D2/goog4.csv', header=None)\n",
    "print(display(df.head()))"
   ]
  },
  {
   "cell_type": "code",
   "execution_count": 5,
   "id": "be3cd1bf-7fdc-458e-bf5d-1591ce0b4f9f",
   "metadata": {
    "scrolled": true
   },
   "outputs": [
    {
     "data": {
      "text/html": [
       "<div>\n",
       "<style scoped>\n",
       "    .dataframe tbody tr th:only-of-type {\n",
       "        vertical-align: middle;\n",
       "    }\n",
       "\n",
       "    .dataframe tbody tr th {\n",
       "        vertical-align: top;\n",
       "    }\n",
       "\n",
       "    .dataframe thead th {\n",
       "        text-align: right;\n",
       "    }\n",
       "</style>\n",
       "<table border=\"1\" class=\"dataframe\">\n",
       "  <thead>\n",
       "    <tr style=\"text-align: right;\">\n",
       "      <th></th>\n",
       "      <th>Job Title</th>\n",
       "      <th>Description</th>\n",
       "    </tr>\n",
       "  </thead>\n",
       "  <tbody>\n",
       "    <tr>\n",
       "      <th>0</th>\n",
       "      <td>Data Analyst</td>\n",
       "      <td>job overview were seeking a data analyst to tu...</td>\n",
       "    </tr>\n",
       "    <tr>\n",
       "      <th>1</th>\n",
       "      <td>Data Reporting Analyst</td>\n",
       "      <td>about wspc wspc is a cooperative of outstandin...</td>\n",
       "    </tr>\n",
       "    <tr>\n",
       "      <th>2</th>\n",
       "      <td>Data Analyst (Power BI/Python)</td>\n",
       "      <td>data analyst power bipython employment type fu...</td>\n",
       "    </tr>\n",
       "    <tr>\n",
       "      <th>3</th>\n",
       "      <td>Data &amp; Reporting Analyst</td>\n",
       "      <td>our company pharmerica overview the data repor...</td>\n",
       "    </tr>\n",
       "    <tr>\n",
       "      <th>4</th>\n",
       "      <td>Data Quality Analyst (Remote Opportunity)</td>\n",
       "      <td>vetsez is seeking a data quality analyst teste...</td>\n",
       "    </tr>\n",
       "  </tbody>\n",
       "</table>\n",
       "</div>"
      ],
      "text/plain": [
       "                                   Job Title  \\\n",
       "0                               Data Analyst   \n",
       "1                     Data Reporting Analyst   \n",
       "2             Data Analyst (Power BI/Python)   \n",
       "3                   Data & Reporting Analyst   \n",
       "4  Data Quality Analyst (Remote Opportunity)   \n",
       "\n",
       "                                         Description  \n",
       "0  job overview were seeking a data analyst to tu...  \n",
       "1  about wspc wspc is a cooperative of outstandin...  \n",
       "2  data analyst power bipython employment type fu...  \n",
       "3  our company pharmerica overview the data repor...  \n",
       "4  vetsez is seeking a data quality analyst teste...  "
      ]
     },
     "metadata": {},
     "output_type": "display_data"
    },
    {
     "name": "stdout",
     "output_type": "stream",
     "text": [
      "None\n"
     ]
    }
   ],
   "source": [
    "\n",
    "df = pd.read_csv('/Users/zentrovoy/Documents/BOOTCAMP/W3/D2/goog4.csv')\n",
    "print(display(df.head()))"
   ]
  },
  {
   "cell_type": "code",
   "execution_count": null,
   "id": "aa1963de-d1d8-40e3-816d-ce6198d08d10",
   "metadata": {},
   "outputs": [],
   "source": []
  },
  {
   "cell_type": "code",
   "execution_count": null,
   "id": "62d962dd-bf6e-43ed-89da-177fdde1d9ed",
   "metadata": {},
   "outputs": [],
   "source": []
  }
 ],
 "metadata": {
  "kernelspec": {
   "display_name": "Python 3 (ipykernel)",
   "language": "python",
   "name": "python3"
  },
  "language_info": {
   "codemirror_mode": {
    "name": "ipython",
    "version": 3
   },
   "file_extension": ".py",
   "mimetype": "text/x-python",
   "name": "python",
   "nbconvert_exporter": "python",
   "pygments_lexer": "ipython3",
   "version": "3.9.6"
  }
 },
 "nbformat": 4,
 "nbformat_minor": 5
}
