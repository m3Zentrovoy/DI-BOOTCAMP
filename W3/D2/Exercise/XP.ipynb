{
 "cells": [
  {
   "cell_type": "code",
   "execution_count": null,
   "id": "6efd514a",
   "metadata": {
    "vscode": {
     "languageId": "plaintext"
    }
   },
   "outputs": [],
   "source": []
  },
  {
   "cell_type": "markdown",
   "id": "f44cddb3",
   "metadata": {},
   "source": []
  },
  {
   "cell_type": "markdown",
   "id": "f1864883",
   "metadata": {},
   "source": [
    "# EX2\n",
    "\n",
    "# A series of blog posts about travel experiences.\n",
    "# It could be transport to Excel. There will be a post block with values and keys that will be names or dates about values.\n",
    "\n",
    "# Audio recordings of customer service calls.\n",
    "# It should be saved in a database with information such as time, name, type of problem, etc. If it is in a database, it must be structured.\n",
    "\n",
    "# Handwritten notes from a brainstorming session.\n",
    "# You can use AI to create a table with the data from this photo.\n",
    "\n",
    "# A video tutorial on cooking.\n",
    "# Probably, we can cut it into parts and collect the dataset from this"
   ]
  },
  {
   "cell_type": "markdown",
   "id": "895c0bb8",
   "metadata": {},
   "source": [
    "# EX1\n",
    "\n",
    "\n",
    "# Below are various data sources. Identify whether each one is an example of structured or unstructured data.\n",
    "\n",
    "# A company’s financial reports stored in an Excel file.\n",
    "# It's structured data because it's stored in Excel (organized).\n",
    "\n",
    "# Photographs uploaded to a social media platform.\n",
    "# It's unstructured data ( photo video ..)\n",
    "\n",
    "# A collection of news articles on a website.\n",
    "\n",
    "# Inventory data in a relational database.\n",
    "# It's structured data because it's stored in database also (organized).\n",
    "\n",
    "# Recorded interviews from a market research study.\n",
    "# It's unstructured data ( photo video ..)\n",
    "\n"
   ]
  }
 ],
 "metadata": {
  "language_info": {
   "name": "python"
  }
 },
 "nbformat": 4,
 "nbformat_minor": 5
}
