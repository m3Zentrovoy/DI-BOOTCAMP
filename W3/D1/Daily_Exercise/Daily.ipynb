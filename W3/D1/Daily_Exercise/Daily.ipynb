{
 "cells": [
  {
   "cell_type": "markdown",
   "id": "1748c551",
   "metadata": {},
   "source": [
    "Analyzing the Role of Data in the Etsy Case Study\n",
    "\n",
    "In 2021, Etsy—the largest online marketplace for handmade goods—used data analytics to boost sales and attract new customers. The company analyzed user behavior, such as views and favorites, as well as transaction data. Etsy applied machine learning to provide personalized recommendations and segment customers. These efforts enabled Etsy to send targeted email campaigns to 18 million buyers, resulting in a 45% surge in app downloads and an additional 5.7 million buyers.\n",
    "\n",
    "Without data analytics, Etsy would not have been able to personalize recommendations effectively, which would have reduced engagement and sales. Data analytics helped Etsy better understand customer preferences and improve interactions between sellers and buyers. This became a key success factor in the competitive e-commerce environment. This case study demonstrates how data analytics can inform decisions, thereby increasing sales and customer loyalty in the handmade goods market."
   ]
  }
 ],
 "metadata": {
  "language_info": {
   "name": "python"
  }
 },
 "nbformat": 4,
 "nbformat_minor": 5
}
