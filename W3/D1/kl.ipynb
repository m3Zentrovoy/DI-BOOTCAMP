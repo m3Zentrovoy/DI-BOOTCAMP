{
 "cells": [
  {
   "cell_type": "code",
   "execution_count": 64,
   "id": "0be29ae5",
   "metadata": {},
   "outputs": [
    {
     "name": "stdout",
     "output_type": "stream",
     "text": [
      "   Id  SepalLengthCm  SepalWidthCm  PetalLengthCm  PetalWidthCm      Species\n",
      "0   1            5.1           3.5            1.4           0.2  Iris-setosa\n",
      "1   2            4.9           3.0            1.4           0.2  Iris-setosa\n",
      "2   3            4.7           3.2            1.3           0.2  Iris-setosa\n",
      "3   4            4.6           3.1            1.5           0.2  Iris-setosa\n",
      "4   5            5.0           3.6            1.4           0.2  Iris-setosa\n",
      "Qualitative (Non-numerical data ) columns in iris: Index(['Species'], dtype='object')\n",
      "Quantitative (Numerical data) columns in iris: Index(['Id', 'SepalLengthCm', 'SepalWidthCm', 'PetalLengthCm', 'PetalWidthCm'], dtype='object')\n"
     ]
    },
    {
     "name": "stderr",
     "output_type": "stream",
     "text": [
      "/var/folders/9r/c_3br2313gl1bvhfwpc6q15r0000gn/T/ipykernel_57194/691773997.py:4: DtypeWarning: Columns (5,6) have mixed types. Specify dtype option on import or set low_memory=False.\n",
      "  df2 = pd.read_csv('Global Trends in Mental Health Disorder/Mental health Depression disorder Data.csv')\n"
     ]
    }
   ],
   "source": [
    "import pandas as pd\n",
    "\n",
    "df1 = pd.read_csv('How Much Sleep Do Americans/Time Americans Spend Sleeping.csv')\n",
    "df2 = pd.read_csv('Global Trends in Mental Health Disorder/Mental health Depression disorder Data.csv')\n",
    "df3 = pd.read_csv('Credit Card Approvals (Clean Data)/clean_dataset.csv')\n",
    "df4 = pd.read_csv('Credit Card Approvals (Clean Data)/crx.csv')\n",
    "\n",
    "# print(\"df1 columns:\", df1.columns)\n",
    "# print(df1.head())\n",
    "# print(\"df1 columns:\", df2.columns)\n",
    "# print(df2.head())\n",
    "# print(\"df1 columns:\", df3.columns)\n",
    "# print(df3.head())\n",
    "# print(\"df1 columns:\", df4.columns)\n",
    "# print(df4.head())\n",
    "\n",
    "#ex3\n",
    "\n",
    "# qualitative_columns = df1.select_dtypes(include=['object']).columns\n",
    "# print(\"Qualitative columns in df1:\", qualitative_columns)\n",
    "# quantitative_columns = df1.select_dtypes(include=['float64', 'int64']).columns\n",
    "# print(\"Quantitative columns in df1:\", quantitative_columns)\n",
    "\n",
    "# qualitative_columns = df2.select_dtypes(include=['object']).columns\n",
    "# print(\"Qualitative columns in df2:\", qualitative_columns)\n",
    "# quantitative_columns = df2.select_dtypes(include=['float64', 'int64']).columns\n",
    "# print(\"Quantitative columns in df2:\", quantitative_columns)\n",
    "\n",
    "\n",
    "# qualitative_columns = df3.select_dtypes(include=['object']).columns\n",
    "# print(\"Qualitative columns in df3:\", qualitative_columns)\n",
    "# quantitative_columns = df3.select_dtypes(include=['float64', 'int64']).columns\n",
    "# print(\"Quantitative columns in df3:\", quantitative_columns)\n",
    "\n",
    "# qualitative_columns = df4.select_dtypes(include=['object']).columns\n",
    "# print(\"Qualitative columns in df4:\", qualitative_columns)\n",
    "# quantitative_columns = df4.select_dtypes(include=['float64', 'int64']).columns\n",
    "# print(\"Quantitative columns in df4:\", quantitative_columns)\n",
    "\n",
    "\n",
    "iris = pd.read_csv('Iris.csv')\n",
    "print(iris.head())\n",
    "\n",
    "qualitative_columns = iris.select_dtypes(include=['object']).columns\n",
    "print(\"Qualitative (Non-numerical data ) columns in iris:\", qualitative_columns)\n",
    "quantitative_columns = iris.select_dtypes(include=['float64', 'int64']).columns\n",
    "print(\"Quantitative (Numerical data) columns in iris:\", quantitative_columns)\n"
   ]
  }
 ],
 "metadata": {
  "kernelspec": {
   "display_name": ".venv",
   "language": "python",
   "name": "python3"
  },
  "language_info": {
   "codemirror_mode": {
    "name": "ipython",
    "version": 3
   },
   "file_extension": ".py",
   "mimetype": "text/x-python",
   "name": "python",
   "nbconvert_exporter": "python",
   "pygments_lexer": "ipython3",
   "version": "3.9.6"
  }
 },
 "nbformat": 4,
 "nbformat_minor": 5
}
